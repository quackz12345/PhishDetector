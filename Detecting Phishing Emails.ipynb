{
 "cells": [
  {
   "cell_type": "markdown",
   "id": "898980b7-9579-44e3-a5b4-a0f381eb19cf",
   "metadata": {},
   "source": [
    "# **Detecting Phishing Emails**"
   ]
  },
  {
   "cell_type": "code",
   "execution_count": 75,
   "id": "85e1961a-46cc-4e4d-b541-a7007b59794b",
   "metadata": {},
   "outputs": [
    {
     "name": "stdout",
     "output_type": "stream",
     "text": [
      "Num GPUs Available:  0\n"
     ]
    }
   ],
   "source": [
    "import pandas as pd\n",
    "import numpy as np\n",
    "import tensorflow as tf\n",
    "import matplotlib.pyplot as plt\n",
    "import seaborn as sns\n",
    "from sklearn.model_selection import train_test_split\n",
    "from sklearn.feature_extraction.text import TfidfVectorizer\n",
    "from sklearn.linear_model import LogisticRegression\n",
    "from sklearn.metrics import accuracy_score, classification_report, confusion_matrix\n",
    "from sklearn.model_selection import cross_val_score\n",
    "from tensorflow.keras.preprocessing.text import Tokenizer\n",
    "from tensorflow.keras.preprocessing.sequence import pad_sequences\n",
    "from tensorflow.keras.models import Sequential\n",
    "from tensorflow.keras.layers import Embedding, LSTM, Dense, Dropout\n",
    "from tensorflow.keras.regularizers import l2\n",
    "from tensorflow.keras.callbacks import EarlyStopping, ModelCheckpoint\n",
    "print(\"Num GPUs Available: \", len(tf.config.list_physical_devices('GPU')))\n"
   ]
  },
  {
   "cell_type": "markdown",
   "id": "5fbaaaee-675d-4fe3-8fac-3a241347df82",
   "metadata": {},
   "source": [
    "### Data Exploration"
   ]
  },
  {
   "cell_type": "code",
   "execution_count": 4,
   "id": "0a5b5459-4060-4fc3-a16f-e492b8265c2f",
   "metadata": {
    "scrolled": true
   },
   "outputs": [
    {
     "data": {
      "text/html": [
       "<div>\n",
       "<style scoped>\n",
       "    .dataframe tbody tr th:only-of-type {\n",
       "        vertical-align: middle;\n",
       "    }\n",
       "\n",
       "    .dataframe tbody tr th {\n",
       "        vertical-align: top;\n",
       "    }\n",
       "\n",
       "    .dataframe thead th {\n",
       "        text-align: right;\n",
       "    }\n",
       "</style>\n",
       "<table border=\"1\" class=\"dataframe\">\n",
       "  <thead>\n",
       "    <tr style=\"text-align: right;\">\n",
       "      <th></th>\n",
       "      <th>Unnamed: 0</th>\n",
       "      <th>Email Text</th>\n",
       "      <th>Email Type</th>\n",
       "    </tr>\n",
       "  </thead>\n",
       "  <tbody>\n",
       "    <tr>\n",
       "      <th>0</th>\n",
       "      <td>0</td>\n",
       "      <td>re : 6 . 1100 , disc : uniformitarianism , re ...</td>\n",
       "      <td>Safe Email</td>\n",
       "    </tr>\n",
       "    <tr>\n",
       "      <th>1</th>\n",
       "      <td>1</td>\n",
       "      <td>the other side of * galicismos * * galicismo *...</td>\n",
       "      <td>Safe Email</td>\n",
       "    </tr>\n",
       "    <tr>\n",
       "      <th>2</th>\n",
       "      <td>2</td>\n",
       "      <td>re : equistar deal tickets are you still avail...</td>\n",
       "      <td>Safe Email</td>\n",
       "    </tr>\n",
       "    <tr>\n",
       "      <th>3</th>\n",
       "      <td>3</td>\n",
       "      <td>\\nHello I am your hot lil horny toy.\\n    I am...</td>\n",
       "      <td>Phishing Email</td>\n",
       "    </tr>\n",
       "    <tr>\n",
       "      <th>4</th>\n",
       "      <td>4</td>\n",
       "      <td>software at incredibly low prices ( 86 % lower...</td>\n",
       "      <td>Phishing Email</td>\n",
       "    </tr>\n",
       "  </tbody>\n",
       "</table>\n",
       "</div>"
      ],
      "text/plain": [
       "   Unnamed: 0                                         Email Text  \\\n",
       "0           0  re : 6 . 1100 , disc : uniformitarianism , re ...   \n",
       "1           1  the other side of * galicismos * * galicismo *...   \n",
       "2           2  re : equistar deal tickets are you still avail...   \n",
       "3           3  \\nHello I am your hot lil horny toy.\\n    I am...   \n",
       "4           4  software at incredibly low prices ( 86 % lower...   \n",
       "\n",
       "       Email Type  \n",
       "0      Safe Email  \n",
       "1      Safe Email  \n",
       "2      Safe Email  \n",
       "3  Phishing Email  \n",
       "4  Phishing Email  "
      ]
     },
     "metadata": {},
     "output_type": "display_data"
    },
    {
     "name": "stdout",
     "output_type": "stream",
     "text": [
      "<class 'pandas.core.frame.DataFrame'>\n",
      "RangeIndex: 18650 entries, 0 to 18649\n",
      "Data columns (total 3 columns):\n",
      " #   Column      Non-Null Count  Dtype \n",
      "---  ------      --------------  ----- \n",
      " 0   Unnamed: 0  18650 non-null  int64 \n",
      " 1   Email Text  18634 non-null  object\n",
      " 2   Email Type  18650 non-null  object\n",
      "dtypes: int64(1), object(2)\n",
      "memory usage: 437.2+ KB\n"
     ]
    },
    {
     "data": {
      "text/plain": [
       "None"
      ]
     },
     "metadata": {},
     "output_type": "display_data"
    },
    {
     "data": {
      "text/plain": [
       "Email Type\n",
       "Safe Email        11322\n",
       "Phishing Email     7328\n",
       "Name: count, dtype: int64"
      ]
     },
     "execution_count": 4,
     "metadata": {},
     "output_type": "execute_result"
    }
   ],
   "source": [
    "emails = pd.read_csv('Phishing_Email.csv')\n",
    "display(emails.head())\n",
    "display(emails.info())\n",
    "emails['Email Type'].value_counts()"
   ]
  },
  {
   "cell_type": "code",
   "execution_count": 5,
   "id": "90284c40-4931-4755-9e1b-c2bf38f69f0c",
   "metadata": {},
   "outputs": [
    {
     "data": {
      "image/png": "[encoded data removed]",
      "text/plain": [
       "<Figure size 640x480 with 1 Axes>"
      ]
     },
     "metadata": {},
     "output_type": "display_data"
    }
   ],
   "source": [
    "sns.countplot(x='Email Type', data=emails)\n",
    "plt.show()"
   ]
  },
  {
   "cell_type": "markdown",
   "id": "5d5f6175-b034-447b-ba2a-87dccfb47f57",
   "metadata": {},
   "source": [
    "### Analysis\n",
    "\n",
    "From the data exploration, we can tell that the data has two features, email text and type, with type being either phishing or safe. The bar plot shows a healthy distribution and no extreme imbalance."
   ]
  },
  {
   "cell_type": "markdown",
   "id": "081b050c-c97d-4b64-9380-974f9558ade2",
   "metadata": {},
   "source": [
    "### Data Preprocessing"
   ]
  },
  {
   "cell_type": "code",
   "execution_count": 8,
   "id": "f6c5e3bb-bec6-42ba-8237-63804824b27d",
   "metadata": {},
   "outputs": [],
   "source": [
    "#remove null\n",
    "emails['Email Text'].fillna('No Content', inplace=True)\n",
    "\n",
    "#TF-IDF evaluates term frequency to process language into numbers to use in models. Simple and great for text classification.\n",
    "tfidf = TfidfVectorizer(stop_words='english', max_features=1000)\n",
    "X = tfidf.fit_transform(emails['Email Text'])\n",
    "Y = emails['Email Type'].apply(lambda x: 1 if x == 'Phishing Email' else 0)\n"
   ]
  },
  {
   "cell_type": "markdown",
   "id": "35f328b5-c036-4662-b485-a32423951ffa",
   "metadata": {},
   "source": [
    "### Model Building and Evaluation"
   ]
  },
  {
   "cell_type": "code",
   "execution_count": 10,
   "id": "04e6e45b-689a-4840-9e60-568a128e9d38",
   "metadata": {},
   "outputs": [
    {
     "name": "stdout",
     "output_type": "stream",
     "text": [
      "Accuracy: 0.95\n",
      "              precision    recall  f1-score   support\n",
      "\n",
      "           0       0.97      0.95      0.96      2273\n",
      "           1       0.93      0.96      0.94      1457\n",
      "\n",
      "    accuracy                           0.95      3730\n",
      "   macro avg       0.95      0.96      0.95      3730\n",
      "weighted avg       0.96      0.95      0.95      3730\n",
      "\n"
     ]
    }
   ],
   "source": [
    "# Split data into training and testing sets\n",
    "X_train, X_test, Y_train, Y_test = train_test_split(X, Y, test_size=0.2, random_state=42)\n",
    "\n",
    "# Train a model + L1 Regularization\n",
    "model = LogisticRegression(penalty='l1', solver='saga', max_iter=200)\n",
    "model.fit(X_train, Y_train)\n",
    "\n",
    "# Predict and evaluate\n",
    "Y_pred = model.predict(X_test)\n",
    "print(f'Accuracy: {accuracy_score(Y_test, Y_pred):.2f}')\n",
    "print(classification_report(Y_test, Y_pred))"
   ]
  },
  {
   "cell_type": "markdown",
   "id": "30fd8058-981c-40c4-a06d-b3bcc3831c16",
   "metadata": {},
   "source": [
    "### Data Validation"
   ]
  },
  {
   "cell_type": "code",
   "execution_count": 12,
   "id": "3f4dc3c8-65bf-4473-9de4-b9c3ff7a9e32",
   "metadata": {},
   "outputs": [
    {
     "name": "stdout",
     "output_type": "stream",
     "text": [
      "              precision    recall  f1-score   support\n",
      "\n",
      "           0       0.99      0.98      0.99      2401\n",
      "           1       0.90      0.97      0.94       458\n",
      "\n",
      "    accuracy                           0.98      2859\n",
      "   macro avg       0.95      0.97      0.96      2859\n",
      "weighted avg       0.98      0.98      0.98      2859\n",
      "\n",
      "              precision    recall  f1-score   support\n",
      "\n",
      "           0       0.96      0.95      0.96     15791\n",
      "           1       0.95      0.95      0.95     13976\n",
      "\n",
      "    accuracy                           0.95     29767\n",
      "   macro avg       0.95      0.95      0.95     29767\n",
      "weighted avg       0.95      0.95      0.95     29767\n",
      "\n"
     ]
    }
   ],
   "source": [
    "validation_data = pd.read_csv('Ling.csv')\n",
    "validation_data['body'].fillna('No Content', inplace=True)\n",
    "X_validation = tfidf.transform(validation_data['body'])\n",
    "Y_validation = validation_data['label']\n",
    "Y_pred_validation = model.predict(X_validation)\n",
    "print(classification_report(Y_validation, Y_pred_validation))\n",
    "\n",
    "validation1_data = pd.read_csv('Enron.csv')\n",
    "validation1_data['body'].fillna('No Content', inplace=True)\n",
    "X_validation1 = tfidf.transform(validation1_data['body'])\n",
    "Y_validation1 = validation1_data['label']\n",
    "Y_pred_validation1 = model.predict(X_validation1)\n",
    "print(classification_report(Y_validation1, Y_pred_validation1))"
   ]
  },
  {
   "cell_type": "code",
   "execution_count": 13,
   "id": "b663f4be-b7d9-4919-bdaf-0cdf0340a848",
   "metadata": {},
   "outputs": [
    {
     "name": "stdout",
     "output_type": "stream",
     "text": [
      "Cross-Validation Scores: [0.94718499 0.95281501 0.94852547 0.9458445  0.9458445 ]\n"
     ]
    }
   ],
   "source": [
    "\n",
    "scores = cross_val_score(model, X, Y, cv=5, scoring='accuracy')\n",
    "print(f\"Cross-Validation Scores: {scores}\")"
   ]
  },
  {
   "cell_type": "markdown",
   "id": "014a8fdf-42d0-4e8a-bbd2-c703049eb41d",
   "metadata": {},
   "source": [
    "## Detection through a Deep Learning Model: Neural Networks"
   ]
  },
  {
   "cell_type": "markdown",
   "id": "c3b5f474-c4ed-4c00-a79f-acf52ef8f8a1",
   "metadata": {},
   "source": [
    "### Data Preparation"
   ]
  },
  {
   "cell_type": "code",
   "execution_count": 84,
   "id": "520f687e-dfb3-4017-a1c6-e2d9724d4481",
   "metadata": {},
   "outputs": [],
   "source": [
    "tokenizer = Tokenizer(num_words=10000)\n",
    "tokenizer.fit_on_texts(emails['Email Text'])\n",
    "sequences = tokenizer.texts_to_sequences(emails['Email Text'])\n",
    "neural_X = pad_sequences(sequences, maxlen=100)\n",
    "neural_Y = emails['Email Type'].apply(lambda x: 1 if x == 'Phishing Email' else 0)\n",
    "neural_X_train, neural_X_test, neural_Y_train, neural_Y_test = train_test_split(neural_X, neural_Y, test_size=0.2, random_state=42)\n",
    "np.random.seed(42)\n",
    "tf.random.set_seed(42)"
   ]
  },
  {
   "cell_type": "markdown",
   "id": "bf8e1f53-435a-4e32-a861-615f53ba3115",
   "metadata": {},
   "source": [
    "### Model Architecture"
   ]
  },
  {
   "cell_type": "code",
   "execution_count": 85,
   "id": "81c4bffc-85bb-4af6-ae62-7a3b4aeda1b7",
   "metadata": {},
   "outputs": [],
   "source": [
    "neural_model = Sequential()\n",
    "neural_model.add(Embedding(input_dim=10000, output_dim=100))\n",
    "neural_model.add(LSTM(128, return_sequences=True, kernel_regularizer=l2(0.01)))\n",
    "neural_model.add(LSTM(64, return_sequences=True, kernel_regularizer=l2(0.01)))\n",
    "neural_model.add(LSTM(32, kernel_regularizer=l2(0.01)))\n",
    "neural_model.add(Dropout(0.5))\n",
    "neural_model.add(Dense(1, activation='sigmoid'))\n",
    "\n"
   ]
  },
  {
   "cell_type": "markdown",
   "id": "12af0de8-b059-4377-a18c-cdd925e20061",
   "metadata": {},
   "source": [
    "### Training and Evaluation"
   ]
  },
  {
   "cell_type": "code",
   "execution_count": 86,
   "id": "d53f7dc3-7633-41a1-877f-4d2c9f5c85fa",
   "metadata": {},
   "outputs": [
    {
     "name": "stdout",
     "output_type": "stream",
     "text": [
      "Epoch 1/10\n",
      "\u001b[1m234/234\u001b[0m \u001b[32m━━━━━━━━━━━━━━━━━━━━\u001b[0m\u001b[37m\u001b[0m \u001b[1m46s\u001b[0m 167ms/step - accuracy: 0.7085 - loss: 2.2622 - val_accuracy: 0.8523 - val_loss: 0.4107\n",
      "Epoch 2/10\n",
      "\u001b[1m234/234\u001b[0m \u001b[32m━━━━━━━━━━━━━━━━━━━━\u001b[0m\u001b[37m\u001b[0m \u001b[1m37s\u001b[0m 158ms/step - accuracy: 0.9175 - loss: 0.2972 - val_accuracy: 0.9507 - val_loss: 0.1669\n",
      "Epoch 3/10\n",
      "\u001b[1m234/234\u001b[0m \u001b[32m━━━━━━━━━━━━━━━━━━━━\u001b[0m\u001b[37m\u001b[0m \u001b[1m38s\u001b[0m 162ms/step - accuracy: 0.9608 - loss: 0.1397 - val_accuracy: 0.9558 - val_loss: 0.1418\n",
      "Epoch 4/10\n",
      "\u001b[1m234/234\u001b[0m \u001b[32m━━━━━━━━━━━━━━━━━━━━\u001b[0m\u001b[37m\u001b[0m \u001b[1m37s\u001b[0m 158ms/step - accuracy: 0.9715 - loss: 0.1005 - val_accuracy: 0.9536 - val_loss: 0.1671\n",
      "Epoch 5/10\n",
      "\u001b[1m234/234\u001b[0m \u001b[32m━━━━━━━━━━━━━━━━━━━━\u001b[0m\u001b[37m\u001b[0m \u001b[1m40s\u001b[0m 169ms/step - accuracy: 0.9745 - loss: 0.1100 - val_accuracy: 0.9542 - val_loss: 0.1791\n",
      "Epoch 6/10\n",
      "\u001b[1m234/234\u001b[0m \u001b[32m━━━━━━━━━━━━━━━━━━━━\u001b[0m\u001b[37m\u001b[0m \u001b[1m36s\u001b[0m 155ms/step - accuracy: 0.9758 - loss: 0.0999 - val_accuracy: 0.9571 - val_loss: 0.1431\n"
     ]
    },
    {
     "data": {
      "image/png": "[encoded data removed]",
      "text/plain": [
       "<Figure size 640x480 with 1 Axes>"
      ]
     },
     "metadata": {},
     "output_type": "display_data"
    }
   ],
   "source": [
    "neural_model.compile(loss='binary_crossentropy', optimizer='adam', metrics=['accuracy'])\n",
    "early_stopping = EarlyStopping(monitor='val_loss', patience=3, restore_best_weights=True)\n",
    "model_checkpoint = ModelCheckpoint('best_model.keras', save_best_only=True, monitor='val_loss')\n",
    "history = neural_model.fit(neural_X_train, neural_Y_train, epochs=10, batch_size=64, validation_data=(neural_X_test, neural_Y_test), callbacks=[early_stopping, model_checkpoint])\n",
    "plt.plot(history.history['accuracy'])\n",
    "plt.plot(history.history['val_accuracy'])\n",
    "plt.title('Model accuracy')\n",
    "plt.xlabel('Epoch')\n",
    "plt.ylabel('Accuracy')\n",
    "plt.legend(['Train', 'Val'], loc='upper left')\n",
    "plt.show()"
   ]
  },
  {
   "cell_type": "code",
   "execution_count": 87,
   "id": "5321a7d2-dbd4-40da-b835-e4ff17f32abe",
   "metadata": {},
   "outputs": [
    {
     "name": "stdout",
     "output_type": "stream",
     "text": [
      "\u001b[1m117/117\u001b[0m \u001b[32m━━━━━━━━━━━━━━━━━━━━\u001b[0m\u001b[37m\u001b[0m \u001b[1m4s\u001b[0m 33ms/step - accuracy: 0.9586 - loss: 0.1431\n",
      "Validation Accuracy: 0.9558\n",
      "\u001b[1m117/117\u001b[0m \u001b[32m━━━━━━━━━━━━━━━━━━━━\u001b[0m\u001b[37m\u001b[0m \u001b[1m6s\u001b[0m 42ms/step\n",
      "Classification Report:\n",
      "               precision    recall  f1-score   support\n",
      "\n",
      "           0       0.98      0.95      0.96      2273\n",
      "           1       0.93      0.96      0.94      1457\n",
      "\n",
      "    accuracy                           0.96      3730\n",
      "   macro avg       0.95      0.96      0.95      3730\n",
      "weighted avg       0.96      0.96      0.96      3730\n",
      "\n"
     ]
    }
   ],
   "source": [
    "loss, accuracy = neural_model.evaluate(neural_X_test, neural_Y_test)\n",
    "print(f\"Validation Accuracy: {accuracy:.4f}\")\n",
    "predictions1 = neural_model.predict(neural_X_test)\n",
    "predicted_labels1 = (predictions1 > 0.5).astype(int)\n",
    "print(\"Classification Report:\\n\", classification_report(neural_Y_test, predicted_labels1))"
   ]
  },
  {
   "cell_type": "markdown",
   "id": "581903be-dbb1-4a80-9966-9d7a345d8458",
   "metadata": {},
   "source": [
    "### Data Validation"
   ]
  },
  {
   "cell_type": "code",
   "execution_count": 94,
   "id": "b6751b99-ccfc-4e55-be8e-ac4d216b26a9",
   "metadata": {},
   "outputs": [
    {
     "name": "stdout",
     "output_type": "stream",
     "text": [
      "\u001b[1m187/187\u001b[0m \u001b[32m━━━━━━━━━━━━━━━━━━━━\u001b[0m\u001b[37m\u001b[0m \u001b[1m6s\u001b[0m 32ms/step\n",
      "Classification Report:\n",
      "               precision    recall  f1-score   support\n",
      "\n",
      "           0       0.96      0.94      0.95      3185\n",
      "           1       0.93      0.96      0.94      2769\n",
      "\n",
      "    accuracy                           0.95      5954\n",
      "   macro avg       0.95      0.95      0.95      5954\n",
      "weighted avg       0.95      0.95      0.95      5954\n",
      "\n",
      "Confusion Matrix:\n",
      " [[2982  203]\n",
      " [ 117 2652]]\n"
     ]
    }
   ],
   "source": [
    "validation2_data = pd.read_csv('Enron.csv')\n",
    "validation2_data['body'] = validation2_data['body'].astype(str).fillna('')\n",
    "new_sequences = tokenizer.texts_to_sequences(validation2_data['body'])\n",
    "new_X = pad_sequences(new_sequences, maxlen=100)\n",
    "new_Y = validation2_data['label']\n",
    "new_X_train, new_X_test, new_Y_train, new_Y_test = train_test_split(new_X, new_Y, test_size=0.2, random_state=42)\n",
    "predictions = neural_model.predict(new_X_test)\n",
    "predicted_labels = (predictions > 0.5).astype(int)\n",
    "print(\"Classification Report:\\n\", classification_report(new_Y_test, predicted_labels))\n",
    "print(\"Confusion Matrix:\\n\", confusion_matrix(new_Y_test, predicted_labels))"
   ]
  },
  {
   "cell_type": "markdown",
   "id": "02cc6f52-2101-44ec-8557-457bcc495698",
   "metadata": {},
   "source": [
    "## Exploring the Dangers of AI-Generated Threats"
   ]
  },
  {
   "cell_type": "markdown",
   "id": "83d363b6-47c7-4195-95ea-a7d650a5971c",
   "metadata": {},
   "source": [
    "validation5_data = pd.read_csv('chatgptver.csv')\n",
    "validation5_data['Email Text'] = validation5_data['Email Text'].astype(str).fillna('')\n",
    "new_sequences5 = tokenizer.texts_to_sequences(validation5_data['Email Text'])\n",
    "new_X5 = pad_sequences(new_sequences5, maxlen=100)\n",
    "new_Y5 = validation5_data['Email Type']\n",
    "new_X_train5, new_X_test5, new_Y_train5, new_Y_test5 = train_test_split(new_X5, new_Y5, test_size=0.2, random_state=42)\n",
    "predictions5 = neural_model.predict(new_X_test5)\n",
    "predicted_labels5 = (predictions5 > 0.5).astype(int)\n",
    "print(\"Classification Report:\\n\", classification_report(new_Y_test5, predicted_labels5))\n",
    "print(\"Confusion Matrix:\\n\", confusion_matrix(new_Y_test5, predicted_labels5))"
   ]
  }
 ],
 "metadata": {
  "kernelspec": {
   "display_name": "Python 3 (ipykernel)",
   "language": "python",
   "name": "python3"
  },
  "language_info": {
   "codemirror_mode": {
    "name": "ipython",
    "version": 3
   },
   "file_extension": ".py",
   "mimetype": "text/x-python",
   "name": "python",
   "nbconvert_exporter": "python",
   "pygments_lexer": "ipython3",
   "version": "3.11.7"
  }
 },
 "nbformat": 4,
 "nbformat_minor": 5
}
